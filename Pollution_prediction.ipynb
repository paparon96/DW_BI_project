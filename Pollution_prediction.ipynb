{
 "cells": [
  {
   "cell_type": "markdown",
   "metadata": {},
   "source": [
    "# Import libraries"
   ]
  },
  {
   "cell_type": "code",
   "execution_count": null,
   "metadata": {},
   "outputs": [],
   "source": [
    "import pickle\n",
    "\n",
    "import pandas as pd\n",
    "\n",
    "from sklearn.linear_model import LinearRegression\n",
    "from sklearn.metrics import mean_squared_error, r2_score\n",
    "\n",
    "import matplotlib.pylab as plt\n",
    "%matplotlib inline"
   ]
  },
  {
   "cell_type": "markdown",
   "metadata": {},
   "source": [
    "# Data preprocessing"
   ]
  },
  {
   "cell_type": "markdown",
   "metadata": {},
   "source": [
    "## Read in data"
   ]
  },
  {
   "cell_type": "code",
   "execution_count": null,
   "metadata": {},
   "outputs": [],
   "source": [
    "dataset = pd.read_csv(\"./modelling_dataset.csv\")\n",
    "\n",
    "# Some data cleaning\n",
    "dataset = dataset.drop(columns = [\"Unnamed: 0\"])\n",
    "dataset = dataset.drop_duplicates(subset=['city', 'time'], keep='last')\n",
    "\n",
    "print(dataset.shape)\n",
    "print(dataset.columns)\n",
    "print(dataset.head())"
   ]
  },
  {
   "cell_type": "markdown",
   "metadata": {},
   "source": [
    "## Handle missing values"
   ]
  },
  {
   "cell_type": "code",
   "execution_count": null,
   "metadata": {},
   "outputs": [],
   "source": [
    "dataset.isna().sum() # We see that the big problem is with accident_num we will handle that"
   ]
  },
  {
   "cell_type": "code",
   "execution_count": null,
   "metadata": {},
   "outputs": [],
   "source": [
    "# Number of accidents\n",
    "dataset['accident_num'].fillna(dataset.groupby('city')['accident_num'].transform(\"median\"), inplace=True)"
   ]
  },
  {
   "cell_type": "code",
   "execution_count": null,
   "metadata": {},
   "outputs": [],
   "source": [
    "# After the imputation we drop the observations with missing data\n",
    "dataset = dataset.dropna()\n",
    "print(dataset.shape)\n",
    "print(dataset.isna().sum())"
   ]
  },
  {
   "cell_type": "code",
   "execution_count": null,
   "metadata": {},
   "outputs": [],
   "source": [
    "# Sort dataset by city and time\n",
    "dataset = dataset.sort_values(by=['city', 'time'])\n",
    "print(dataset.head())"
   ]
  },
  {
   "cell_type": "code",
   "execution_count": null,
   "metadata": {},
   "outputs": [],
   "source": [
    "# Copy current dataset to be used for prediction later\n",
    "pred_table = dataset.copy()"
   ]
  },
  {
   "cell_type": "markdown",
   "metadata": {},
   "source": [
    "## Lag creators"
   ]
  },
  {
   "cell_type": "code",
   "execution_count": null,
   "metadata": {},
   "outputs": [],
   "source": [
    "def lag_creators(num_lags,target_var,dataset):\n",
    "    \n",
    "    for i in range(5,num_lags+1):\n",
    "        temp = 'lag_hour_{}_{}'.format(i,target_var)\n",
    "        temp_series = dataset.groupby('city')[target_var]\n",
    "        dataset[temp] = temp_series.shift(periods = i)\n",
    "        \n",
    "    return dataset"
   ]
  },
  {
   "cell_type": "code",
   "execution_count": null,
   "metadata": {
    "scrolled": true
   },
   "outputs": [],
   "source": [
    "dataset = lag_creators(8,'co',dataset)\n",
    "print(dataset.head())"
   ]
  },
  {
   "cell_type": "code",
   "execution_count": null,
   "metadata": {},
   "outputs": [],
   "source": [
    "# Other lags\n",
    "dataset = lag_creators(8,'accident_num',dataset)\n",
    "#print(dataset.head())"
   ]
  },
  {
   "cell_type": "code",
   "execution_count": null,
   "metadata": {},
   "outputs": [],
   "source": [
    "# Other lags\n",
    "dataset = lag_creators(8,'wind_speed',dataset)\n",
    "#print(dataset.head())"
   ]
  },
  {
   "cell_type": "code",
   "execution_count": null,
   "metadata": {},
   "outputs": [],
   "source": [
    "lag_cols = [i for i in dataset.columns if 'lag' in i]\n",
    "print(lag_cols)"
   ]
  },
  {
   "cell_type": "markdown",
   "metadata": {},
   "source": [
    "# Modelling"
   ]
  },
  {
   "cell_type": "code",
   "execution_count": null,
   "metadata": {},
   "outputs": [],
   "source": [
    "# Burn NaN-s from lag-generation\n",
    "dataset = dataset.dropna()\n",
    "\n",
    "print(dataset.shape)"
   ]
  },
  {
   "cell_type": "markdown",
   "metadata": {},
   "source": [
    "## CO model"
   ]
  },
  {
   "cell_type": "code",
   "execution_count": null,
   "metadata": {
    "scrolled": true
   },
   "outputs": [],
   "source": [
    "# Features\n",
    "modelling_table = dataset[lag_cols]\n",
    "print(modelling_table.head())"
   ]
  },
  {
   "cell_type": "code",
   "execution_count": null,
   "metadata": {},
   "outputs": [],
   "source": [
    "# Target variable\n",
    "y = dataset['co']\n",
    "X = modelling_table.copy()"
   ]
  },
  {
   "cell_type": "code",
   "execution_count": null,
   "metadata": {},
   "outputs": [],
   "source": [
    "pred_model = LinearRegression().fit(X, y)"
   ]
  },
  {
   "cell_type": "code",
   "execution_count": null,
   "metadata": {
    "scrolled": true
   },
   "outputs": [],
   "source": [
    "y_pred = pred_model.predict(X)\n",
    "plt.scatter(y, y_pred)\n",
    "plt.show()\n",
    "\n",
    "print(\"R^2 score is {}\".format(r2_score(y, y_pred)))"
   ]
  },
  {
   "cell_type": "code",
   "execution_count": null,
   "metadata": {},
   "outputs": [],
   "source": [
    "# Save model\n",
    "filename = './pred_model.sav'\n",
    "pickle.dump(pred_model, open(filename, 'wb'))\n",
    "\n",
    "# Save columns for modelling\n",
    "filename = './model_cols.sav'\n",
    "pickle.dump(lag_cols, open(filename, 'wb'))"
   ]
  },
  {
   "cell_type": "markdown",
   "metadata": {},
   "source": [
    "# Predicting"
   ]
  },
  {
   "cell_type": "code",
   "execution_count": null,
   "metadata": {
    "scrolled": true
   },
   "outputs": [],
   "source": [
    "print(pred_table.shape)\n",
    "pred_table.head()"
   ]
  },
  {
   "cell_type": "code",
   "execution_count": null,
   "metadata": {
    "scrolled": false
   },
   "outputs": [],
   "source": [
    "pred_table2 = pred_table.copy()\n",
    "print(pred_table2.shape)\n",
    "\n",
    "pred_table2['time'] =  pd.to_datetime(pred_table2['time'], format='%Y-%m-%d %H:%M:%S')\n",
    "#print(pred_table2.dtypes)\n",
    "pred_table2 = pred_table2.reset_index(drop=True)\n",
    "\n",
    "unique_city_names = pred_table2.city.nunique()\n",
    "lags = 8\n",
    "\n",
    "# Dummy, indicator column\n",
    "pred_table2['forecast'] = 0\n",
    "\n",
    "# Always the last 3 (number of lags) for each city is the prediction!\n",
    "def add_row(x,lags):\n",
    "    for i in range(0,lags):\n",
    "        last_row = x.iloc[-1]\n",
    "        last_time = last_row.time\n",
    "        last_row['time'] = last_time + pd.DateOffset(hours=1)\n",
    "        x = x.append(last_row)\n",
    "        x.iloc[-1,-1] = 1\n",
    "    return x\n",
    "\n",
    "\n",
    "pred_table2 = pred_table2.groupby('city').apply(add_row, lags=5).reset_index(drop=True)\n",
    "print(pred_table2.shape)"
   ]
  },
  {
   "cell_type": "markdown",
   "metadata": {},
   "source": [
    "## Data preprocessing for prediction points"
   ]
  },
  {
   "cell_type": "code",
   "execution_count": null,
   "metadata": {},
   "outputs": [],
   "source": [
    "pred_table3 = pred_table2.copy()\n",
    "pred_table3 = lag_creators(8,'co',pred_table3)\n",
    "pred_table3 = lag_creators(8,'accident_num',pred_table3)\n",
    "pred_table3 = lag_creators(8,'wind_speed',pred_table3)\n",
    "\n",
    "pred_table4 = pred_table3[pred_table3.forecast==1]\n",
    "pred_table4 = pred_table4.dropna()\n",
    "\n",
    "pred_features = pred_table4[lag_cols]"
   ]
  },
  {
   "cell_type": "markdown",
   "metadata": {},
   "source": [
    "## Running the model on the prediction points"
   ]
  },
  {
   "cell_type": "code",
   "execution_count": null,
   "metadata": {
    "scrolled": true
   },
   "outputs": [],
   "source": [
    "y_forecast = pred_model.predict(pred_features)\n",
    "print(len(y_forecast))\n",
    "plt.plot(y_forecast)\n",
    "plt.show()"
   ]
  },
  {
   "cell_type": "markdown",
   "metadata": {},
   "source": [
    "## Inserting prediction values back to the dashboard table"
   ]
  },
  {
   "cell_type": "code",
   "execution_count": null,
   "metadata": {
    "scrolled": true
   },
   "outputs": [],
   "source": [
    "j=0\n",
    "for i in range(0,pred_table2.shape[0]):\n",
    "\n",
    "    if pred_table2.iloc[i,-1]==1:\n",
    "        pred_table2.iloc[i,2]=y_forecast[j]\n",
    "        j = j+1"
   ]
  },
  {
   "cell_type": "code",
   "execution_count": null,
   "metadata": {},
   "outputs": [],
   "source": [
    "temp = pred_table2[pred_table2.forecast==1]\n",
    "print(temp)"
   ]
  },
  {
   "cell_type": "markdown",
   "metadata": {},
   "source": [
    "# Support (Work in Progress)"
   ]
  },
  {
   "cell_type": "code",
   "execution_count": null,
   "metadata": {},
   "outputs": [],
   "source": []
  }
 ],
 "metadata": {
  "kernelspec": {
   "display_name": "air_app_venv",
   "language": "python",
   "name": "air_app_venv"
  },
  "language_info": {
   "codemirror_mode": {
    "name": "ipython",
    "version": 3
   },
   "file_extension": ".py",
   "mimetype": "text/x-python",
   "name": "python",
   "nbconvert_exporter": "python",
   "pygments_lexer": "ipython3",
   "version": "3.7.4"
  },
  "toc": {
   "base_numbering": 1,
   "nav_menu": {},
   "number_sections": true,
   "sideBar": true,
   "skip_h1_title": false,
   "title_cell": "Table of Contents",
   "title_sidebar": "Contents",
   "toc_cell": false,
   "toc_position": {},
   "toc_section_display": true,
   "toc_window_display": true
  }
 },
 "nbformat": 4,
 "nbformat_minor": 2
}
